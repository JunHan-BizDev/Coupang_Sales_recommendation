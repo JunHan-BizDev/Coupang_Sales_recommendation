{
 "cells": [
  {
   "cell_type": "code",
   "execution_count": 42,
   "metadata": {},
   "outputs": [],
   "source": [
    "import os\n",
    "import pandas as pd\n",
    "\n",
    "def innerTocol(df, attr):\n",
    "    \"\"\" df : detail이라는 column을 가진 데이터프레임 (type : dataframe)\n",
    "        attr : detail에서 찾아올 내적 특성, column명이 됨 (type : str)\n",
    "        반환값은 없으며 함수 내부에서 df에 새로운 column이 추가됨 \"\"\"\n",
    "    \n",
    "    # 추출한 내적특성의 값을 담을 list\n",
    "    inner = []\n",
    "    \n",
    "    # 내적 특성 값 추출\n",
    "    for s in df.attribute_list:\n",
    "        if type(s) != str:\n",
    "            inner.append('NULL')\n",
    "        elif s.find(attr) != -1:\n",
    "            #print(s[s.find(\":\",s.find(attr))+2:s.find(\"'\",s.find(attr))])\n",
    "            inner.append(s[s.find(\":\",s.find(attr))+2:s.find(\"'\",s.find(attr))])\n",
    "        else:\n",
    "            inner.append('NULL')\n",
    "    \n",
    "    # 데이터프레임에 새로운 열 추가\n",
    "    df[attr] = inner"
   ]
  },
  {
   "cell_type": "code",
   "execution_count": 43,
   "metadata": {},
   "outputs": [],
   "source": [
    "# 상품별 내적특성 설정\n",
    "attr_list = [['인테리어', '재질', '사이즈', '설치', '색상', '매트리스포함', '침대 프레임'],\n",
    "             ['사이즈', '색상', '형태', '인테리어', '재질', '접이 가능여부'],\n",
    "             ['사이즈', '색상', '소재', '재질', '팔걸이', '등받이', '종류', '인테리어'],\n",
    "             ['사이즈', '색상', '재질', '인테리어'],\n",
    "             ['사이즈', '색상', '재질', '인테리어'],\n",
    "             ['사이즈', '색상', '재질', '인테리어', '스툴', '거울'],\n",
    "             ['사이즈', '색상', '재질', '인테리어', '행거 종류', '행거 타입', '거울'],\n",
    "             ['색상', '재질', '인테리어', '논슬립', '묶음 수량', '종류', '회전'],\n",
    "             ['개당 용량', '개폐방식', '재질', '투명 여부', '접이 가능여부', '바퀴 유무', '손잡이'],\n",
    "             ['사이즈', '색상', '재질', '형태', '바퀴'],\n",
    "             ['사이즈', '색상', '발통', '매트/토퍼', '두께', '겉감재질', '충전재'],\n",
    "             ['색상', '재질', '접이', '바퀴', '사용인원'],\n",
    "             ['색상', '재질', '인테리어'],\n",
    "             ['사이즈', '색상', '재질', '소재', '인테리어', '방식', '각도조절'],\n",
    "             ['사이즈', '잠금방식', '중량', '경보기', '지문인식'],\n",
    "             ['단', '재질', '형태'],\n",
    "             ['사이즈', '색상', '재질', '인테리어'],\n",
    "             ['사이즈', '색상', '재질', '소재', '스툴', '사용인원', '설치', '인테리어'],\n",
    "             ['사이즈', '색상', '재질', '인테리어', '바퀴', '단'],\n",
    "             ['사이즈', '색상', '재질', '인테리어', '가로길이', '형태']]\n",
    "\n",
    "item_list = ['bed', 'bedtray', 'chair', 'closet', 'drawers', 'dressingtable,console',\n",
    "            'hanger', 'hanger,doorhook', 'livingbox', 'livingroom table', 'mattress',\n",
    "            'outdoor furniture', 'partition', 'recliner', 'safe', 'shoes shelf', 'smalltable',\n",
    "            'sofa', 'storage', 'table']\n",
    "\n",
    "inner_attr = {}\n",
    "for i in range(20):\n",
    "    inner_attr[item_list[i]] = attr_list[i]"
   ]
  },
  {
   "cell_type": "code",
   "execution_count": 51,
   "metadata": {},
   "outputs": [],
   "source": [
    "# 내적특성을 열로 추가\n",
    "\n",
    "path_dir = './coupang/'\n",
    "dir_list = os.listdir(path_dir)\n",
    "\n",
    "for d in dir_list:\n",
    "    base = path_dir + d + '/'\n",
    "    file_name = 'result.csv'\n",
    "    item = d[:d.find('(')-1]\n",
    "    data = pd.read_csv(base + file_name, error_bad_lines=False)\n",
    "    data = data.drop(['Unnamed: 0'],axis=1)\n",
    "    attrs = inner_attr[item]\n",
    "    for a in attrs:\n",
    "        innerTocol(data, a)\n",
    "    \n",
    "    # 필요없는 열 삭제\n",
    "    data = data.drop('attribute_list',axis=1)\n",
    "    data = data.drop('baby_product_link',axis=1)\n",
    "    data = data.drop('recommends_list',axis=1)\n",
    "    if(item == 'hanger,doorhook'):\n",
    "        data = data.drop('from selenium import webdriver ', axis=1)\n",
    "        data = data.drop([0])\n",
    "    \n",
    "    # 색상 열에서 \"계열\"문자열 모두 삭제\n",
    "    if '색상' in data.columns:\n",
    "        data[\"색상\"] = data[\"색상\"].str.replace(\"계열\",\"\")\n",
    "    data = data.rename(columns = {\"count\":\"reviews_for_last1year\"})\n",
    "        \n",
    "    data.to_csv('./results/' + item + '_result.csv')"
   ]
  },
  {
   "cell_type": "code",
   "execution_count": null,
   "metadata": {},
   "outputs": [],
   "source": []
  }
 ],
 "metadata": {
  "kernelspec": {
   "display_name": "Python 3",
   "language": "python",
   "name": "python3"
  },
  "language_info": {
   "codemirror_mode": {
    "name": "ipython",
    "version": 3
   },
   "file_extension": ".py",
   "mimetype": "text/x-python",
   "name": "python",
   "nbconvert_exporter": "python",
   "pygments_lexer": "ipython3",
   "version": "3.7.6"
  }
 },
 "nbformat": 4,
 "nbformat_minor": 4
}
